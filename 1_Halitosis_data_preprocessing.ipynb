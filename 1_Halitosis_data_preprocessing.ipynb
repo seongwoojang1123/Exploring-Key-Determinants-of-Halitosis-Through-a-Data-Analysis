{
  "nbformat": 4,
  "nbformat_minor": 0,
  "metadata": {
    "colab": {
      "provenance": [],
      "mount_file_id": "1rNkronC8d54Z2k3W2aGAXZk1RQFu-R4q",
      "authorship_tag": "ABX9TyOEHjBs6o34RcmBQFDF46+x",
      "include_colab_link": true
    },
    "kernelspec": {
      "name": "python3",
      "display_name": "Python 3"
    },
    "language_info": {
      "name": "python"
    }
  },
  "cells": [
    {
      "cell_type": "markdown",
      "metadata": {
        "id": "view-in-github",
        "colab_type": "text"
      },
      "source": [
        "<a href=\"https://colab.research.google.com/github/seongwoojang1123/Exploring-Key-Determinants-of-Halitosis-Through-a-Data-Analysis/blob/main/1_Halitosis_data_preprocessing.ipynb\" target=\"_parent\"><img src=\"https://colab.research.google.com/assets/colab-badge.svg\" alt=\"Open In Colab\"/></a>"
      ]
    },
    {
      "cell_type": "code",
      "execution_count": 1,
      "metadata": {
        "id": "16CkgRsCyR78"
      },
      "outputs": [],
      "source": [
        "import numpy as np\n",
        "import pandas as pd\n",
        "import matplotlib.pyplot as plt\n",
        "import seaborn as sns\n",
        "from scipy.stats import zscore"
      ]
    },
    {
      "cell_type": "code",
      "source": [
        "file_path = '/content/drive/MyDrive/Halitosis/20241107 20231015 data_xerostomia halitosis 11111111.xls'\n",
        "\n",
        "df = pd.read_excel(file_path)\n",
        "\n",
        "\n",
        "# 평균값으로 채울 컬럼\n",
        "mean_fill_columns = ['pH', 'BufferCapacity']\n",
        "\n",
        "# 0으로 채울 컬럼\n",
        "zero_fill_columns = ['S_Hypertension', 'S_DM', 'S_Hyperlipidemia', 'S_RenalDiseases', 'S_LiverDiseases',\n",
        "                     'S_Rheumatism', 'S_Osteoporosis', 'S_CVD', 'S_TD', 'S_MentalDisorders', 'S_UrinaryDiseases','S_Asthma']\n",
        "\n",
        "# 1. 평균값으로 결측치 채우기\n",
        "for column in mean_fill_columns:\n",
        "    df[column] = df[column].fillna(df[column].mean())\n",
        "\n",
        "# 2. 0으로 결측치 채우기\n",
        "df[zero_fill_columns] = df[zero_fill_columns].fillna(0)\n",
        "\n",
        "# 3. 빈 값 (공백, NaN 등)을 0으로 채우기\n",
        "df = df.replace(r'^\\s*$', 0, regex=True)  # 공백 값을 0으로 변환\n",
        "df = df.fillna(0)  # NaN 값을 0으로 변환\n",
        "\n",
        "columns = df.columns\n",
        "print(len(columns))\n",
        "print(columns)\n",
        "df.count()\n",
        "\n",
        "df.to_excel('/content/drive/MyDrive/Halitosis/241121_Halitosis_data preprocessing.xlsx', index = False)"
      ],
      "metadata": {
        "colab": {
          "base_uri": "https://localhost:8080/"
        },
        "id": "h6QUcR7my1ri",
        "outputId": "20b9b12a-9449-48b7-8b06-34609a0f1716"
      },
      "execution_count": 24,
      "outputs": [
        {
          "output_type": "stream",
          "name": "stdout",
          "text": [
            "49\n",
            "Index(['Halitosis_subjective', 'Sex', 'Age', 'Elderly', 'Super_Elderly',\n",
            "       'Xerostomia_subjective', 'UFR', 'SFR', 'pH', 'BufferCapacity', 'VAS',\n",
            "       'StickySaliva', 'Oralhygiene', 'Calculus', 'O_Stomatitis', 'O_RAU',\n",
            "       'O_Candidiasis', 'O_Periodontitis', 'O_LichenPlanus', 'O_Sialodochitis',\n",
            "       'O_Glossodynia', 'O_BMS', 'S_Hypertension', 'S_DM', 'S_Hyperlipidemia',\n",
            "       'S_RenalDiseases', 'S_LiverDiseases', 'S_Rheumatism', 'S_Osteoporosis',\n",
            "       'S_CVD', 'S_TD', 'S_MentalDisorders', 'S_UrinaryDiseases', 'S_Asthma',\n",
            "       'S_CancerOp', 'NumberofSystmicDiseases', 'M_Hypertension', 'M_DM',\n",
            "       'M_Osteoporosis', 'M_Hyperlipidemia', 'M_CV', 'M_TD', 'M_GI',\n",
            "       'M_UrinaryDiseases', 'M_Arthritis', 'M_Rheumatism', 'M_Anxiolytic',\n",
            "       'M_SleepingPills', 'M_Aspirin'],\n",
            "      dtype='object')\n"
          ]
        }
      ]
    },
    {
      "cell_type": "code",
      "source": [
        "file_path = '/content/drive/MyDrive/Halitosis/241121_Halitosis_data preprocessing.xlsx'\n",
        "\n",
        "df = pd.read_excel(file_path)\n",
        "\n",
        "def count_outliers_by_zscore(df, z_threshold=10, min_unique=3):\n",
        "    \"\"\"\n",
        "    df           : 판별할 DataFrame\n",
        "    z_threshold  : abs(z-score)가 이 값을 초과하면 이상치로 판정 (기본 ±10)\n",
        "    min_unique   : 해당 컬럼의 고윳값 개수가 이 값보다 작으면(즉, 0/1처럼 범주가 매우 적으면) 제외\n",
        "    \"\"\"\n",
        "    outlier_counts = {}\n",
        "\n",
        "    # 1) 숫자형 컬럼만 추출\n",
        "    numeric_cols = df.select_dtypes(include=['float64', 'int64']).columns\n",
        "\n",
        "    # 2) 고윳값 개수가 너무 적은(이진 등) 컬럼은 제외\n",
        "    numeric_cols = [col for col in numeric_cols if df[col].nunique() >= min_unique]\n",
        "\n",
        "    # 3) 각 컬럼별로 Z-score를 이용해 이상치 개수 계산\n",
        "    for column in numeric_cols:\n",
        "        # 결측치 제거 후 Z-score 계산\n",
        "        valid_series = df[column].dropna()\n",
        "        z_scores = zscore(valid_series)\n",
        "\n",
        "        # z_threshold 초과하는 값들의 개수\n",
        "        outlier_count = (np.abs(z_scores) > z_threshold).sum()\n",
        "\n",
        "        outlier_counts[column] = outlier_count\n",
        "\n",
        "    return outlier_counts\n",
        "\n",
        "\n",
        "outlier_dict = count_outliers_by_zscore(df, z_threshold=10)\n",
        "\n",
        "# 컬럼별 이상치 개수 출력\n",
        "for col, cnt in outlier_dict.items():\n",
        "    print(f\"'{col}' 컬럼의 이상치 개수: {cnt}\")\n",
        "\n",
        "total_outliers = sum(outlier_dict.values())\n",
        "print(f\"전체 이상치 개수(중복 합산): {total_outliers}\")"
      ],
      "metadata": {
        "colab": {
          "base_uri": "https://localhost:8080/"
        },
        "id": "3edgHvom2SOM",
        "outputId": "8f3a95f5-200e-4b2b-8392-9c7d3e43fbfe"
      },
      "execution_count": 25,
      "outputs": [
        {
          "output_type": "stream",
          "name": "stdout",
          "text": [
            "'Age' 컬럼의 이상치 개수: 0\n",
            "'Super_Elderly' 컬럼의 이상치 개수: 0\n",
            "'UFR' 컬럼의 이상치 개수: 0\n",
            "'SFR' 컬럼의 이상치 개수: 1\n",
            "'pH' 컬럼의 이상치 개수: 0\n",
            "'BufferCapacity' 컬럼의 이상치 개수: 0\n",
            "'VAS' 컬럼의 이상치 개수: 0\n",
            "'Oralhygiene' 컬럼의 이상치 개수: 0\n",
            "'Calculus' 컬럼의 이상치 개수: 0\n",
            "'NumberofSystmicDiseases' 컬럼의 이상치 개수: 0\n",
            "전체 이상치 개수(중복 합산): 1\n"
          ]
        }
      ]
    }
  ]
}